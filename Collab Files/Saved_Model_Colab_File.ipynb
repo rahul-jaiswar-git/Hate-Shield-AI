{
  "nbformat": 4,
  "nbformat_minor": 0,
  "metadata": {
    "colab": {
      "provenance": []
    },
    "kernelspec": {
      "name": "python3",
      "display_name": "Python 3"
    },
    "language_info": {
      "name": "python"
    }
  },
  "cells": [
    {
      "cell_type": "code",
      "execution_count": null,
      "metadata": {
        "id": "LTgO6hdoyDIk"
      },
      "outputs": [],
      "source": [
        "!pip install joblib\n",
        "import joblib\n",
        "\n",
        "from transformers import TFBertForSequenceClassification, BertTokenizer\n",
        "\n",
        "# Load the BERT model and tokenizer\n",
        "model_directory = '/content/drive/MyDrive/Hate Speech Hinglish Laguage/hate_speech_model'\n",
        "loaded_model = TFBertForSequenceClassification.from_pretrained(model_directory)\n",
        "loaded_tokenizer = BertTokenizer.from_pretrained(model_directory)\n",
        "\n",
        "# Load the TensorFlow model\n",
        "tf_model_filename = '/content/drive/MyDrive/Hate Speech Hinglish Laguage/tf_model.h5'\n",
        "loaded_model.load_weights(tf_model_filename)\n",
        "\n",
        "# Load the label encoder\n",
        "label_encoder_filename = '/content/drive/MyDrive/Hate Speech Hinglish Laguage/label_encoder.pkl'\n",
        "loaded_label_encoder = joblib.load(label_encoder_filename)\n"
      ]
    },
    {
      "cell_type": "code",
      "source": [
        "import joblib\n",
        "from transformers import TFBertForSequenceClassification, BertTokenizer\n",
        "import tensorflow as tf\n",
        "import numpy as np\n",
        "\n",
        "def load_model_and_predict(text):\n",
        "    # Load the BERT model and tokenizer\n",
        "    model_directory = '/content/drive/MyDrive/Hate Speech Hinglish Laguage/hate_speech_model'\n",
        "    loaded_model = TFBertForSequenceClassification.from_pretrained(model_directory)\n",
        "    loaded_tokenizer = BertTokenizer.from_pretrained(model_directory)\n",
        "\n",
        "    # Load the TensorFlow model\n",
        "    tf_model_filename = '/content/drive/MyDrive/Hate Speech Hinglish Laguage/tf_model.h5'\n",
        "    loaded_model.load_weights(tf_model_filename)\n",
        "\n",
        "    # Load the label encoder\n",
        "    label_encoder_filename = '/content/drive/MyDrive/Hate Speech Hinglish Laguage/label_encoder.pkl'\n",
        "    loaded_label_encoder = joblib.load(label_encoder_filename)\n",
        "\n",
        "    # Tokenize and preprocess the input text\n",
        "    encoding = loaded_tokenizer.encode_plus(\n",
        "        text,\n",
        "        add_special_tokens=True,\n",
        "        max_length=128,\n",
        "        padding='max_length',\n",
        "        truncation=True,\n",
        "        return_tensors='tf'\n",
        "    )\n",
        "\n",
        "    input_ids = encoding['input_ids']\n",
        "    attention_mask = encoding['attention_mask']\n",
        "\n",
        "    # Make prediction\n",
        "    with tf.device('/cpu:0'):  # Ensure predictions are made on CPU\n",
        "        outputs = loaded_model.predict([input_ids, attention_mask])\n",
        "        logits = outputs.logits\n",
        "\n",
        "    # Convert logits to probabilities and get the predicted label\n",
        "    probabilities = tf.nn.softmax(logits, axis=1).numpy()[0]\n",
        "    predicted_label_id = np.argmax(probabilities)\n",
        "    predicted_label = loaded_label_encoder.classes_[predicted_label_id]\n",
        "\n",
        "    return predicted_label\n",
        "\n",
        "# Example usage:\n",
        "user_input = input(\"Enter a text to classify: \")\n",
        "predicted_label = load_model_and_predict(user_input)\n",
        "print(f'Predicted Label: {predicted_label}')\n"
      ],
      "metadata": {
        "id": "RwNpLbMzyPwk"
      },
      "execution_count": null,
      "outputs": []
    }
  ]
}